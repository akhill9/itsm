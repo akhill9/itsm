{
 "cells": [
  {
   "cell_type": "code",
   "execution_count": 2,
   "metadata": {},
   "outputs": [
    {
     "name": "stderr",
     "output_type": "stream",
     "text": [
      "C:\\Users\\akhil_lvire0b\\Anaconda3\\lib\\site-packages\\sklearn\\externals\\joblib\\__init__.py:15: FutureWarning: sklearn.externals.joblib is deprecated in 0.21 and will be removed in 0.23. Please import this functionality directly from joblib, which can be installed with: pip install joblib. If this warning is raised when loading pickled models, you may need to re-serialize those models with scikit-learn 0.21+.\n",
      "  warnings.warn(msg, category=FutureWarning)\n"
     ]
    }
   ],
   "source": [
    "import pandas as pd\n",
    "import numpy as np\n",
    "import datetime as dt\n",
    "import matplotlib.pyplot as plt\n",
    "from sklearn.preprocessing import LabelEncoder, StandardScaler\n",
    "from sklearn.model_selection import train_test_split\n",
    "from sklearn.metrics import accuracy_score, classification_report, confusion_matrix\n",
    "import itertools\n",
    "import statsmodels.api as sm\n",
    "from sklearn.externals import joblib"
   ]
  },
  {
   "cell_type": "code",
   "execution_count": 6,
   "metadata": {},
   "outputs": [
    {
     "name": "stdout",
     "output_type": "stream",
     "text": [
      "information_schema\n",
      "project_itsm\n"
     ]
    }
   ],
   "source": [
    "import mysql.connector\n",
    "conn = mysql.connector.connect (user='dm_team', password='dm_team123#',\n",
    "                               host='18.136.56.185',buffered=True)\n",
    "cursor = conn.cursor()\n",
    "databases = (\"show databases\")\n",
    "cursor.execute(databases)\n",
    "for (databases) in cursor:\n",
    "     print( databases[0])"
   ]
  },
  {
   "cell_type": "code",
   "execution_count": 3,
   "metadata": {},
   "outputs": [
    {
     "data": {
      "text/plain": [
       "['dataset_list']"
      ]
     },
     "execution_count": 3,
     "metadata": {},
     "output_type": "execute_result"
    }
   ],
   "source": [
    "from sqlalchemy import create_engine\n",
    "import pandas as pd\n",
    "db_host = '18.136.56.185:3306'\n",
    "username = 'dm_team'\n",
    "user_pass = 'dm_team123#'\n",
    "db_name = 'project_itsm'\n",
    "\n",
    "\n",
    "conn = create_engine('mysql+pymysql://'+username+':'+user_pass+'@'+db_host+'/'+db_name)\n",
    "conn.table_names()"
   ]
  },
  {
   "cell_type": "code",
   "execution_count": 4,
   "metadata": {
    "scrolled": true
   },
   "outputs": [
    {
     "name": "stdout",
     "output_type": "stream",
     "text": [
      "(46606, 25)\n"
     ]
    },
    {
     "data": {
      "text/html": [
       "<div>\n",
       "<style scoped>\n",
       "    .dataframe tbody tr th:only-of-type {\n",
       "        vertical-align: middle;\n",
       "    }\n",
       "\n",
       "    .dataframe tbody tr th {\n",
       "        vertical-align: top;\n",
       "    }\n",
       "\n",
       "    .dataframe thead th {\n",
       "        text-align: right;\n",
       "    }\n",
       "</style>\n",
       "<table border=\"1\" class=\"dataframe\">\n",
       "  <thead>\n",
       "    <tr style=\"text-align: right;\">\n",
       "      <th></th>\n",
       "      <th>CI_Name</th>\n",
       "      <th>CI_Cat</th>\n",
       "      <th>CI_Subcat</th>\n",
       "      <th>WBS</th>\n",
       "      <th>Incident_ID</th>\n",
       "      <th>Status</th>\n",
       "      <th>Impact</th>\n",
       "      <th>Urgency</th>\n",
       "      <th>Priority</th>\n",
       "      <th>number_cnt</th>\n",
       "      <th>...</th>\n",
       "      <th>Reopen_Time</th>\n",
       "      <th>Resolved_Time</th>\n",
       "      <th>Close_Time</th>\n",
       "      <th>Handle_Time_hrs</th>\n",
       "      <th>Closure_Code</th>\n",
       "      <th>No_of_Related_Interactions</th>\n",
       "      <th>Related_Interaction</th>\n",
       "      <th>No_of_Related_Incidents</th>\n",
       "      <th>No_of_Related_Changes</th>\n",
       "      <th>Related_Change</th>\n",
       "    </tr>\n",
       "  </thead>\n",
       "  <tbody>\n",
       "    <tr>\n",
       "      <td>0</td>\n",
       "      <td>SUB000508</td>\n",
       "      <td>subapplication</td>\n",
       "      <td>Web Based Application</td>\n",
       "      <td>WBS000162</td>\n",
       "      <td>IM0000004</td>\n",
       "      <td>Closed</td>\n",
       "      <td>4</td>\n",
       "      <td>4</td>\n",
       "      <td>4</td>\n",
       "      <td>0.601292279</td>\n",
       "      <td>...</td>\n",
       "      <td></td>\n",
       "      <td>04-11-2013 13:50</td>\n",
       "      <td>04-11-2013 13:51</td>\n",
       "      <td>3,87,16,91,111</td>\n",
       "      <td>Other</td>\n",
       "      <td>1</td>\n",
       "      <td>SD0000007</td>\n",
       "      <td>2</td>\n",
       "      <td></td>\n",
       "      <td></td>\n",
       "    </tr>\n",
       "    <tr>\n",
       "      <td>1</td>\n",
       "      <td>WBA000124</td>\n",
       "      <td>application</td>\n",
       "      <td>Web Based Application</td>\n",
       "      <td>WBS000088</td>\n",
       "      <td>IM0000005</td>\n",
       "      <td>Closed</td>\n",
       "      <td>3</td>\n",
       "      <td>3</td>\n",
       "      <td>3</td>\n",
       "      <td>0.415049969</td>\n",
       "      <td>...</td>\n",
       "      <td>02-12-2013 12:31</td>\n",
       "      <td>02-12-2013 12:36</td>\n",
       "      <td>02-12-2013 12:36</td>\n",
       "      <td>4,35,47,86,389</td>\n",
       "      <td>Software</td>\n",
       "      <td>1</td>\n",
       "      <td>SD0000011</td>\n",
       "      <td>1</td>\n",
       "      <td></td>\n",
       "      <td></td>\n",
       "    </tr>\n",
       "    <tr>\n",
       "      <td>2</td>\n",
       "      <td>DTA000024</td>\n",
       "      <td>application</td>\n",
       "      <td>Desktop Application</td>\n",
       "      <td>WBS000092</td>\n",
       "      <td>IM0000006</td>\n",
       "      <td>Closed</td>\n",
       "      <td>NS</td>\n",
       "      <td>3</td>\n",
       "      <td>NA</td>\n",
       "      <td>0.517551335</td>\n",
       "      <td>...</td>\n",
       "      <td></td>\n",
       "      <td>13-01-2014 15:12</td>\n",
       "      <td>13-01-2014 15:13</td>\n",
       "      <td>4,84,31,19,444</td>\n",
       "      <td>No error - works as designed</td>\n",
       "      <td>1</td>\n",
       "      <td>SD0000017</td>\n",
       "      <td></td>\n",
       "      <td></td>\n",
       "      <td></td>\n",
       "    </tr>\n",
       "    <tr>\n",
       "      <td>3</td>\n",
       "      <td>WBA000124</td>\n",
       "      <td>application</td>\n",
       "      <td>Web Based Application</td>\n",
       "      <td>WBS000088</td>\n",
       "      <td>IM0000011</td>\n",
       "      <td>Closed</td>\n",
       "      <td>4</td>\n",
       "      <td>4</td>\n",
       "      <td>4</td>\n",
       "      <td>0.642927218</td>\n",
       "      <td>...</td>\n",
       "      <td></td>\n",
       "      <td>14-11-2013 09:31</td>\n",
       "      <td>14-11-2013 09:31</td>\n",
       "      <td>4,32,18,33,333</td>\n",
       "      <td>Operator error</td>\n",
       "      <td>1</td>\n",
       "      <td>SD0000025</td>\n",
       "      <td></td>\n",
       "      <td></td>\n",
       "      <td></td>\n",
       "    </tr>\n",
       "    <tr>\n",
       "      <td>4</td>\n",
       "      <td>WBA000124</td>\n",
       "      <td>application</td>\n",
       "      <td>Web Based Application</td>\n",
       "      <td>WBS000088</td>\n",
       "      <td>IM0000012</td>\n",
       "      <td>Closed</td>\n",
       "      <td>4</td>\n",
       "      <td>4</td>\n",
       "      <td>4</td>\n",
       "      <td>0.345258343</td>\n",
       "      <td>...</td>\n",
       "      <td></td>\n",
       "      <td>08-11-2013 13:55</td>\n",
       "      <td>08-11-2013 13:55</td>\n",
       "      <td>3,38,39,03,333</td>\n",
       "      <td>Other</td>\n",
       "      <td>1</td>\n",
       "      <td>SD0000029</td>\n",
       "      <td></td>\n",
       "      <td></td>\n",
       "      <td></td>\n",
       "    </tr>\n",
       "    <tr>\n",
       "      <td>...</td>\n",
       "      <td>...</td>\n",
       "      <td>...</td>\n",
       "      <td>...</td>\n",
       "      <td>...</td>\n",
       "      <td>...</td>\n",
       "      <td>...</td>\n",
       "      <td>...</td>\n",
       "      <td>...</td>\n",
       "      <td>...</td>\n",
       "      <td>...</td>\n",
       "      <td>...</td>\n",
       "      <td>...</td>\n",
       "      <td>...</td>\n",
       "      <td>...</td>\n",
       "      <td>...</td>\n",
       "      <td>...</td>\n",
       "      <td>...</td>\n",
       "      <td>...</td>\n",
       "      <td>...</td>\n",
       "      <td>...</td>\n",
       "      <td>...</td>\n",
       "    </tr>\n",
       "    <tr>\n",
       "      <td>46601</td>\n",
       "      <td>SBA000464</td>\n",
       "      <td>application</td>\n",
       "      <td>Server Based Application</td>\n",
       "      <td>WBS000073</td>\n",
       "      <td>IM0047053</td>\n",
       "      <td>Closed</td>\n",
       "      <td>4</td>\n",
       "      <td>4</td>\n",
       "      <td>4</td>\n",
       "      <td>0.23189604</td>\n",
       "      <td>...</td>\n",
       "      <td></td>\n",
       "      <td>31-03-2014 16:29</td>\n",
       "      <td>31-03-2014 16:29</td>\n",
       "      <td>0,095</td>\n",
       "      <td>Other</td>\n",
       "      <td>1</td>\n",
       "      <td>SD0147021</td>\n",
       "      <td></td>\n",
       "      <td></td>\n",
       "      <td></td>\n",
       "    </tr>\n",
       "    <tr>\n",
       "      <td>46602</td>\n",
       "      <td>SBA000461</td>\n",
       "      <td>application</td>\n",
       "      <td>Server Based Application</td>\n",
       "      <td>WBS000073</td>\n",
       "      <td>IM0047054</td>\n",
       "      <td>Closed</td>\n",
       "      <td>4</td>\n",
       "      <td>4</td>\n",
       "      <td>4</td>\n",
       "      <td>0.805153085</td>\n",
       "      <td>...</td>\n",
       "      <td></td>\n",
       "      <td>31-03-2014 15:29</td>\n",
       "      <td>31-03-2014 15:29</td>\n",
       "      <td>0,428333333</td>\n",
       "      <td>User error</td>\n",
       "      <td>1</td>\n",
       "      <td>SD0146967</td>\n",
       "      <td></td>\n",
       "      <td></td>\n",
       "      <td></td>\n",
       "    </tr>\n",
       "    <tr>\n",
       "      <td>46603</td>\n",
       "      <td>LAP000019</td>\n",
       "      <td>computer</td>\n",
       "      <td>Laptop</td>\n",
       "      <td>WBS000091</td>\n",
       "      <td>IM0047055</td>\n",
       "      <td>Closed</td>\n",
       "      <td>5</td>\n",
       "      <td>5</td>\n",
       "      <td>5</td>\n",
       "      <td>0.917466294</td>\n",
       "      <td>...</td>\n",
       "      <td></td>\n",
       "      <td>31-03-2014 15:32</td>\n",
       "      <td>31-03-2014 15:32</td>\n",
       "      <td>0,071666667</td>\n",
       "      <td>Hardware</td>\n",
       "      <td>1</td>\n",
       "      <td>SD0146982</td>\n",
       "      <td></td>\n",
       "      <td></td>\n",
       "      <td></td>\n",
       "    </tr>\n",
       "    <tr>\n",
       "      <td>46604</td>\n",
       "      <td>WBA000058</td>\n",
       "      <td>application</td>\n",
       "      <td>Web Based Application</td>\n",
       "      <td>WBS000073</td>\n",
       "      <td>IM0047056</td>\n",
       "      <td>Closed</td>\n",
       "      <td>4</td>\n",
       "      <td>4</td>\n",
       "      <td>4</td>\n",
       "      <td>0.701278158</td>\n",
       "      <td>...</td>\n",
       "      <td></td>\n",
       "      <td>31-03-2014 15:42</td>\n",
       "      <td>31-03-2014 15:42</td>\n",
       "      <td>0,116944444</td>\n",
       "      <td>Software</td>\n",
       "      <td>1</td>\n",
       "      <td>SD0146986</td>\n",
       "      <td></td>\n",
       "      <td></td>\n",
       "      <td></td>\n",
       "    </tr>\n",
       "    <tr>\n",
       "      <td>46605</td>\n",
       "      <td>DCE000077</td>\n",
       "      <td>hardware</td>\n",
       "      <td>DataCenterEquipment</td>\n",
       "      <td>WBS000267</td>\n",
       "      <td>IM0047057</td>\n",
       "      <td>Closed</td>\n",
       "      <td>3</td>\n",
       "      <td>3</td>\n",
       "      <td>3</td>\n",
       "      <td>0.902319509</td>\n",
       "      <td>...</td>\n",
       "      <td></td>\n",
       "      <td>31-03-2014 22:47</td>\n",
       "      <td>31-03-2014 22:47</td>\n",
       "      <td>0,586388889</td>\n",
       "      <td>Hardware</td>\n",
       "      <td>1</td>\n",
       "      <td>SD0147088</td>\n",
       "      <td></td>\n",
       "      <td></td>\n",
       "      <td></td>\n",
       "    </tr>\n",
       "  </tbody>\n",
       "</table>\n",
       "<p>46606 rows × 25 columns</p>\n",
       "</div>"
      ],
      "text/plain": [
       "         CI_Name          CI_Cat                 CI_Subcat        WBS  \\\n",
       "0      SUB000508  subapplication     Web Based Application  WBS000162   \n",
       "1      WBA000124     application     Web Based Application  WBS000088   \n",
       "2      DTA000024     application       Desktop Application  WBS000092   \n",
       "3      WBA000124     application     Web Based Application  WBS000088   \n",
       "4      WBA000124     application     Web Based Application  WBS000088   \n",
       "...          ...             ...                       ...        ...   \n",
       "46601  SBA000464     application  Server Based Application  WBS000073   \n",
       "46602  SBA000461     application  Server Based Application  WBS000073   \n",
       "46603  LAP000019        computer                    Laptop  WBS000091   \n",
       "46604  WBA000058     application     Web Based Application  WBS000073   \n",
       "46605  DCE000077        hardware       DataCenterEquipment  WBS000267   \n",
       "\n",
       "      Incident_ID  Status Impact Urgency Priority   number_cnt  ...  \\\n",
       "0       IM0000004  Closed      4       4        4  0.601292279  ...   \n",
       "1       IM0000005  Closed      3       3        3  0.415049969  ...   \n",
       "2       IM0000006  Closed     NS       3       NA  0.517551335  ...   \n",
       "3       IM0000011  Closed      4       4        4  0.642927218  ...   \n",
       "4       IM0000012  Closed      4       4        4  0.345258343  ...   \n",
       "...           ...     ...    ...     ...      ...          ...  ...   \n",
       "46601   IM0047053  Closed      4       4        4   0.23189604  ...   \n",
       "46602   IM0047054  Closed      4       4        4  0.805153085  ...   \n",
       "46603   IM0047055  Closed      5       5        5  0.917466294  ...   \n",
       "46604   IM0047056  Closed      4       4        4  0.701278158  ...   \n",
       "46605   IM0047057  Closed      3       3        3  0.902319509  ...   \n",
       "\n",
       "            Reopen_Time     Resolved_Time        Close_Time Handle_Time_hrs  \\\n",
       "0                        04-11-2013 13:50  04-11-2013 13:51  3,87,16,91,111   \n",
       "1      02-12-2013 12:31  02-12-2013 12:36  02-12-2013 12:36  4,35,47,86,389   \n",
       "2                        13-01-2014 15:12  13-01-2014 15:13  4,84,31,19,444   \n",
       "3                        14-11-2013 09:31  14-11-2013 09:31  4,32,18,33,333   \n",
       "4                        08-11-2013 13:55  08-11-2013 13:55  3,38,39,03,333   \n",
       "...                 ...               ...               ...             ...   \n",
       "46601                    31-03-2014 16:29  31-03-2014 16:29           0,095   \n",
       "46602                    31-03-2014 15:29  31-03-2014 15:29     0,428333333   \n",
       "46603                    31-03-2014 15:32  31-03-2014 15:32     0,071666667   \n",
       "46604                    31-03-2014 15:42  31-03-2014 15:42     0,116944444   \n",
       "46605                    31-03-2014 22:47  31-03-2014 22:47     0,586388889   \n",
       "\n",
       "                       Closure_Code No_of_Related_Interactions  \\\n",
       "0                             Other                          1   \n",
       "1                          Software                          1   \n",
       "2      No error - works as designed                          1   \n",
       "3                    Operator error                          1   \n",
       "4                             Other                          1   \n",
       "...                             ...                        ...   \n",
       "46601                         Other                          1   \n",
       "46602                    User error                          1   \n",
       "46603                      Hardware                          1   \n",
       "46604                      Software                          1   \n",
       "46605                      Hardware                          1   \n",
       "\n",
       "      Related_Interaction No_of_Related_Incidents No_of_Related_Changes  \\\n",
       "0               SD0000007                       2                         \n",
       "1               SD0000011                       1                         \n",
       "2               SD0000017                                                 \n",
       "3               SD0000025                                                 \n",
       "4               SD0000029                                                 \n",
       "...                   ...                     ...                   ...   \n",
       "46601           SD0147021                                                 \n",
       "46602           SD0146967                                                 \n",
       "46603           SD0146982                                                 \n",
       "46604           SD0146986                                                 \n",
       "46605           SD0147088                                                 \n",
       "\n",
       "      Related_Change  \n",
       "0                     \n",
       "1                     \n",
       "2                     \n",
       "3                     \n",
       "4                     \n",
       "...              ...  \n",
       "46601                 \n",
       "46602                 \n",
       "46603                 \n",
       "46604                 \n",
       "46605                 \n",
       "\n",
       "[46606 rows x 25 columns]"
      ]
     },
     "execution_count": 4,
     "metadata": {},
     "output_type": "execute_result"
    }
   ],
   "source": [
    "query = \"select * from dataset_list\"\n",
    "data = pd.read_sql(query,conn)\n",
    "print(data.shape)\n",
    "data"
   ]
  },
  {
   "cell_type": "code",
   "execution_count": 4,
   "metadata": {},
   "outputs": [
    {
     "data": {
      "text/plain": [
       "CI_Name                       0\n",
       "CI_Cat                        0\n",
       "CI_Subcat                     0\n",
       "WBS                           0\n",
       "Incident_ID                   0\n",
       "Status                        0\n",
       "Impact                        0\n",
       "Urgency                       0\n",
       "Priority                      0\n",
       "number_cnt                    0\n",
       "Category                      0\n",
       "KB_number                     0\n",
       "Alert_Status                  0\n",
       "No_of_Reassignments           0\n",
       "Open_Time                     0\n",
       "Reopen_Time                   0\n",
       "Resolved_Time                 0\n",
       "Close_Time                    0\n",
       "Handle_Time_hrs               0\n",
       "Closure_Code                  0\n",
       "No_of_Related_Interactions    0\n",
       "Related_Interaction           0\n",
       "No_of_Related_Incidents       0\n",
       "No_of_Related_Changes         0\n",
       "Related_Change                0\n",
       "dtype: int64"
      ]
     },
     "execution_count": 4,
     "metadata": {},
     "output_type": "execute_result"
    }
   ],
   "source": [
    "data.isnull().sum()"
   ]
  },
  {
   "cell_type": "code",
   "execution_count": 5,
   "metadata": {
    "scrolled": true
   },
   "outputs": [
    {
     "data": {
      "text/plain": [
       "incident                   37748\n",
       "request for information     8846\n",
       "complaint                     11\n",
       "request for change             1\n",
       "Name: Category, dtype: int64"
      ]
     },
     "execution_count": 5,
     "metadata": {},
     "output_type": "execute_result"
    }
   ],
   "source": [
    "data['Category'].value_counts()"
   ]
  },
  {
   "cell_type": "code",
   "execution_count": 5,
   "metadata": {},
   "outputs": [],
   "source": [
    "#to replace space with nan\n",
    "data = data.replace(r'^\\s*$', np.NaN, regex=True)"
   ]
  },
  {
   "cell_type": "code",
   "execution_count": 7,
   "metadata": {},
   "outputs": [
    {
     "ename": "NameError",
     "evalue": "name 'data1' is not defined",
     "output_type": "error",
     "traceback": [
      "\u001b[1;31m---------------------------------------------------------------------------\u001b[0m",
      "\u001b[1;31mNameError\u001b[0m                                 Traceback (most recent call last)",
      "\u001b[1;32m<ipython-input-7-3f39628ccda8>\u001b[0m in \u001b[0;36m<module>\u001b[1;34m\u001b[0m\n\u001b[1;32m----> 1\u001b[1;33m \u001b[0mdata1\u001b[0m\u001b[1;33m.\u001b[0m\u001b[0mAlert_Status\u001b[0m\u001b[1;33m.\u001b[0m\u001b[0mvalue_counts\u001b[0m\u001b[1;33m(\u001b[0m\u001b[1;33m)\u001b[0m\u001b[1;33m\u001b[0m\u001b[1;33m\u001b[0m\u001b[0m\n\u001b[0m",
      "\u001b[1;31mNameError\u001b[0m: name 'data1' is not defined"
     ]
    }
   ],
   "source": [
    "data1.Alert_Status.value_counts()"
   ]
  },
  {
   "cell_type": "code",
   "execution_count": 16,
   "metadata": {},
   "outputs": [
    {
     "name": "stdout",
     "output_type": "stream",
     "text": [
      "<class 'pandas.core.frame.DataFrame'>\n",
      "RangeIndex: 46606 entries, 0 to 46605\n",
      "Data columns (total 25 columns):\n",
      "CI_Name                       46606 non-null object\n",
      "CI_Cat                        46495 non-null object\n",
      "CI_Subcat                     46495 non-null object\n",
      "WBS                           46606 non-null object\n",
      "Incident_ID                   46606 non-null object\n",
      "Status                        46606 non-null object\n",
      "Impact                        46606 non-null object\n",
      "Urgency                       46606 non-null object\n",
      "Priority                      46606 non-null object\n",
      "number_cnt                    46606 non-null object\n",
      "Category                      46606 non-null object\n",
      "KB_number                     46606 non-null object\n",
      "Alert_Status                  46606 non-null object\n",
      "No_of_Reassignments           46605 non-null object\n",
      "Open_Time                     46606 non-null object\n",
      "Reopen_Time                   2284 non-null object\n",
      "Resolved_Time                 44826 non-null object\n",
      "Close_Time                    46606 non-null object\n",
      "Handle_Time_hrs               46605 non-null object\n",
      "Closure_Code                  46146 non-null object\n",
      "No_of_Related_Interactions    46492 non-null object\n",
      "Related_Interaction           46606 non-null object\n",
      "No_of_Related_Incidents       1222 non-null object\n",
      "No_of_Related_Changes         560 non-null object\n",
      "Related_Change                560 non-null object\n",
      "dtypes: object(25)\n",
      "memory usage: 8.9+ MB\n"
     ]
    }
   ],
   "source": [
    "data.info()"
   ]
  },
  {
   "cell_type": "code",
   "execution_count": 17,
   "metadata": {},
   "outputs": [
    {
     "data": {
      "text/html": [
       "<div>\n",
       "<style scoped>\n",
       "    .dataframe tbody tr th:only-of-type {\n",
       "        vertical-align: middle;\n",
       "    }\n",
       "\n",
       "    .dataframe tbody tr th {\n",
       "        vertical-align: top;\n",
       "    }\n",
       "\n",
       "    .dataframe thead th {\n",
       "        text-align: right;\n",
       "    }\n",
       "</style>\n",
       "<table border=\"1\" class=\"dataframe\">\n",
       "  <thead>\n",
       "    <tr style=\"text-align: right;\">\n",
       "      <th></th>\n",
       "      <th>CI_Name</th>\n",
       "      <th>CI_Cat</th>\n",
       "      <th>CI_Subcat</th>\n",
       "      <th>WBS</th>\n",
       "      <th>Incident_ID</th>\n",
       "      <th>Status</th>\n",
       "      <th>Impact</th>\n",
       "      <th>Urgency</th>\n",
       "      <th>Priority</th>\n",
       "      <th>number_cnt</th>\n",
       "      <th>...</th>\n",
       "      <th>Reopen_Time</th>\n",
       "      <th>Resolved_Time</th>\n",
       "      <th>Close_Time</th>\n",
       "      <th>Handle_Time_hrs</th>\n",
       "      <th>Closure_Code</th>\n",
       "      <th>No_of_Related_Interactions</th>\n",
       "      <th>Related_Interaction</th>\n",
       "      <th>No_of_Related_Incidents</th>\n",
       "      <th>No_of_Related_Changes</th>\n",
       "      <th>Related_Change</th>\n",
       "    </tr>\n",
       "  </thead>\n",
       "  <tbody>\n",
       "    <tr>\n",
       "      <td>0</td>\n",
       "      <td>ZOS000016</td>\n",
       "      <td>subapplication</td>\n",
       "      <td>zOS Systeem</td>\n",
       "      <td>WBS000339</td>\n",
       "      <td>IM0047057</td>\n",
       "      <td>Work in progress</td>\n",
       "      <td>NS</td>\n",
       "      <td>5 - Very Low</td>\n",
       "      <td>NA</td>\n",
       "      <td>7.75E-05</td>\n",
       "      <td>...</td>\n",
       "      <td>31-12-2013 14:06</td>\n",
       "      <td>31-12-2013 16:58</td>\n",
       "      <td>31-12-2013 16:58</td>\n",
       "      <td>99,975</td>\n",
       "      <td>User manual not used</td>\n",
       "      <td>9</td>\n",
       "      <td>SD0147088</td>\n",
       "      <td>9</td>\n",
       "      <td>9</td>\n",
       "      <td>C00018549</td>\n",
       "    </tr>\n",
       "    <tr>\n",
       "      <td>1</td>\n",
       "      <td>ZOS000016</td>\n",
       "      <td>subapplication</td>\n",
       "      <td>zOS Systeem</td>\n",
       "      <td>WBS000339</td>\n",
       "      <td>IM0047056</td>\n",
       "      <td>Work in progress</td>\n",
       "      <td>NS</td>\n",
       "      <td>5</td>\n",
       "      <td>NA</td>\n",
       "      <td>6.34E-05</td>\n",
       "      <td>...</td>\n",
       "      <td>31-12-2013 11:52</td>\n",
       "      <td>31-12-2013 16:23</td>\n",
       "      <td>31-12-2013 16:23</td>\n",
       "      <td>99,825</td>\n",
       "      <td>User manual not used</td>\n",
       "      <td>9</td>\n",
       "      <td>SD0147071</td>\n",
       "      <td>9</td>\n",
       "      <td>3</td>\n",
       "      <td>C00018471</td>\n",
       "    </tr>\n",
       "    <tr>\n",
       "      <td>2</td>\n",
       "      <td>ZOS000011</td>\n",
       "      <td>subapplication</td>\n",
       "      <td>zOS Server</td>\n",
       "      <td>WBS000337</td>\n",
       "      <td>IM0047055</td>\n",
       "      <td>Work in progress</td>\n",
       "      <td>NS</td>\n",
       "      <td>5</td>\n",
       "      <td>NA</td>\n",
       "      <td>5.31E-05</td>\n",
       "      <td>...</td>\n",
       "      <td>31-12-2013 11:38</td>\n",
       "      <td>31-12-2013 16:23</td>\n",
       "      <td>31-12-2013 16:23</td>\n",
       "      <td>99,675</td>\n",
       "      <td>User manual not used</td>\n",
       "      <td>9</td>\n",
       "      <td>SD0147021</td>\n",
       "      <td>9</td>\n",
       "      <td>3</td>\n",
       "      <td>C00018435</td>\n",
       "    </tr>\n",
       "    <tr>\n",
       "      <td>3</td>\n",
       "      <td>ZOS000006</td>\n",
       "      <td>subapplication</td>\n",
       "      <td>zOS Server</td>\n",
       "      <td>WBS000337</td>\n",
       "      <td>IM0047054</td>\n",
       "      <td>Work in progress</td>\n",
       "      <td>NS</td>\n",
       "      <td>5</td>\n",
       "      <td>NA</td>\n",
       "      <td>4.65E-05</td>\n",
       "      <td>...</td>\n",
       "      <td>31-12-2013 11:32</td>\n",
       "      <td>31-12-2013 16:21</td>\n",
       "      <td>31-12-2013 16:21</td>\n",
       "      <td>99,525</td>\n",
       "      <td>User manual not used</td>\n",
       "      <td>9</td>\n",
       "      <td>SD0147015</td>\n",
       "      <td>9</td>\n",
       "      <td>2</td>\n",
       "      <td>C00018421</td>\n",
       "    </tr>\n",
       "    <tr>\n",
       "      <td>4</td>\n",
       "      <td>ZOC000005</td>\n",
       "      <td>subapplication</td>\n",
       "      <td>zOS Server</td>\n",
       "      <td>WBS000337</td>\n",
       "      <td>IM0047053</td>\n",
       "      <td>Work in progress</td>\n",
       "      <td>NS</td>\n",
       "      <td>5</td>\n",
       "      <td>NA</td>\n",
       "      <td>3.60E-05</td>\n",
       "      <td>...</td>\n",
       "      <td>31-12-2013 11:08</td>\n",
       "      <td>31-12-2013 16:14</td>\n",
       "      <td>31-12-2013 16:15</td>\n",
       "      <td>99,425</td>\n",
       "      <td>User manual not used</td>\n",
       "      <td>9</td>\n",
       "      <td>SD0146993</td>\n",
       "      <td>9</td>\n",
       "      <td>2</td>\n",
       "      <td>C00018403</td>\n",
       "    </tr>\n",
       "    <tr>\n",
       "      <td>...</td>\n",
       "      <td>...</td>\n",
       "      <td>...</td>\n",
       "      <td>...</td>\n",
       "      <td>...</td>\n",
       "      <td>...</td>\n",
       "      <td>...</td>\n",
       "      <td>...</td>\n",
       "      <td>...</td>\n",
       "      <td>...</td>\n",
       "      <td>...</td>\n",
       "      <td>...</td>\n",
       "      <td>...</td>\n",
       "      <td>...</td>\n",
       "      <td>...</td>\n",
       "      <td>...</td>\n",
       "      <td>...</td>\n",
       "      <td>...</td>\n",
       "      <td>...</td>\n",
       "      <td>...</td>\n",
       "      <td>...</td>\n",
       "      <td>...</td>\n",
       "    </tr>\n",
       "    <tr>\n",
       "      <td>46601</td>\n",
       "      <td>ADB000010</td>\n",
       "      <td>NaN</td>\n",
       "      <td>NaN</td>\n",
       "      <td>WBS000002</td>\n",
       "      <td>IM0000012</td>\n",
       "      <td>Closed</td>\n",
       "      <td>2</td>\n",
       "      <td>1</td>\n",
       "      <td>2</td>\n",
       "      <td>0.000159573</td>\n",
       "      <td>...</td>\n",
       "      <td>NaN</td>\n",
       "      <td>NaN</td>\n",
       "      <td>01-02-2014 20:20</td>\n",
       "      <td>0</td>\n",
       "      <td>NaN</td>\n",
       "      <td>NaN</td>\n",
       "      <td>#MULTIVALUE</td>\n",
       "      <td>NaN</td>\n",
       "      <td>NaN</td>\n",
       "      <td>NaN</td>\n",
       "    </tr>\n",
       "    <tr>\n",
       "      <td>46602</td>\n",
       "      <td>ADB000010</td>\n",
       "      <td>NaN</td>\n",
       "      <td>NaN</td>\n",
       "      <td>WBS000002</td>\n",
       "      <td>IM0000011</td>\n",
       "      <td>Closed</td>\n",
       "      <td>2</td>\n",
       "      <td>1</td>\n",
       "      <td>2</td>\n",
       "      <td>0.000149697</td>\n",
       "      <td>...</td>\n",
       "      <td>NaN</td>\n",
       "      <td>NaN</td>\n",
       "      <td>01-02-2014 19:32</td>\n",
       "      <td>0</td>\n",
       "      <td>NaN</td>\n",
       "      <td>NaN</td>\n",
       "      <td>#MULTIVALUE</td>\n",
       "      <td>NaN</td>\n",
       "      <td>NaN</td>\n",
       "      <td>NaN</td>\n",
       "    </tr>\n",
       "    <tr>\n",
       "      <td>46603</td>\n",
       "      <td>ADB000010</td>\n",
       "      <td>NaN</td>\n",
       "      <td>NaN</td>\n",
       "      <td>WBS000002</td>\n",
       "      <td>IM0000006</td>\n",
       "      <td>Closed</td>\n",
       "      <td>1</td>\n",
       "      <td>1</td>\n",
       "      <td>1</td>\n",
       "      <td>0.000146858</td>\n",
       "      <td>...</td>\n",
       "      <td>NaN</td>\n",
       "      <td>NaN</td>\n",
       "      <td>01-02-2014 06:53</td>\n",
       "      <td>0</td>\n",
       "      <td>NaN</td>\n",
       "      <td>NaN</td>\n",
       "      <td>#MULTIVALUE</td>\n",
       "      <td>NaN</td>\n",
       "      <td>NaN</td>\n",
       "      <td>NaN</td>\n",
       "    </tr>\n",
       "    <tr>\n",
       "      <td>46604</td>\n",
       "      <td>ADB000005</td>\n",
       "      <td>NaN</td>\n",
       "      <td>NaN</td>\n",
       "      <td>WBS000002</td>\n",
       "      <td>IM0000005</td>\n",
       "      <td>Closed</td>\n",
       "      <td>1</td>\n",
       "      <td>1</td>\n",
       "      <td>1</td>\n",
       "      <td>0.000144817</td>\n",
       "      <td>...</td>\n",
       "      <td>NaN</td>\n",
       "      <td>NaN</td>\n",
       "      <td>01-01-2014 18:21</td>\n",
       "      <td>0</td>\n",
       "      <td>NaN</td>\n",
       "      <td>NaN</td>\n",
       "      <td>#MULTIVALUE</td>\n",
       "      <td>NaN</td>\n",
       "      <td>NaN</td>\n",
       "      <td>NaN</td>\n",
       "    </tr>\n",
       "    <tr>\n",
       "      <td>46605</td>\n",
       "      <td>ACS000001</td>\n",
       "      <td>NaN</td>\n",
       "      <td>NaN</td>\n",
       "      <td>WBS000001</td>\n",
       "      <td>IM0000004</td>\n",
       "      <td>Closed</td>\n",
       "      <td>1</td>\n",
       "      <td>1</td>\n",
       "      <td>1</td>\n",
       "      <td>0.000126655</td>\n",
       "      <td>...</td>\n",
       "      <td>NaN</td>\n",
       "      <td>NaN</td>\n",
       "      <td>01-01-2014 15:34</td>\n",
       "      <td>NaN</td>\n",
       "      <td>NaN</td>\n",
       "      <td>NaN</td>\n",
       "      <td>#MULTIVALUE</td>\n",
       "      <td>NaN</td>\n",
       "      <td>NaN</td>\n",
       "      <td>NaN</td>\n",
       "    </tr>\n",
       "  </tbody>\n",
       "</table>\n",
       "<p>46606 rows × 25 columns</p>\n",
       "</div>"
      ],
      "text/plain": [
       "         CI_Name          CI_Cat    CI_Subcat        WBS Incident_ID  \\\n",
       "0      ZOS000016  subapplication  zOS Systeem  WBS000339   IM0047057   \n",
       "1      ZOS000016  subapplication  zOS Systeem  WBS000339   IM0047056   \n",
       "2      ZOS000011  subapplication   zOS Server  WBS000337   IM0047055   \n",
       "3      ZOS000006  subapplication   zOS Server  WBS000337   IM0047054   \n",
       "4      ZOC000005  subapplication   zOS Server  WBS000337   IM0047053   \n",
       "...          ...             ...          ...        ...         ...   \n",
       "46601  ADB000010             NaN          NaN  WBS000002   IM0000012   \n",
       "46602  ADB000010             NaN          NaN  WBS000002   IM0000011   \n",
       "46603  ADB000010             NaN          NaN  WBS000002   IM0000006   \n",
       "46604  ADB000005             NaN          NaN  WBS000002   IM0000005   \n",
       "46605  ACS000001             NaN          NaN  WBS000001   IM0000004   \n",
       "\n",
       "                 Status Impact       Urgency Priority   number_cnt  ...  \\\n",
       "0      Work in progress     NS  5 - Very Low       NA     7.75E-05  ...   \n",
       "1      Work in progress     NS             5       NA     6.34E-05  ...   \n",
       "2      Work in progress     NS             5       NA     5.31E-05  ...   \n",
       "3      Work in progress     NS             5       NA     4.65E-05  ...   \n",
       "4      Work in progress     NS             5       NA     3.60E-05  ...   \n",
       "...                 ...    ...           ...      ...          ...  ...   \n",
       "46601            Closed      2             1        2  0.000159573  ...   \n",
       "46602            Closed      2             1        2  0.000149697  ...   \n",
       "46603            Closed      1             1        1  0.000146858  ...   \n",
       "46604            Closed      1             1        1  0.000144817  ...   \n",
       "46605            Closed      1             1        1  0.000126655  ...   \n",
       "\n",
       "            Reopen_Time     Resolved_Time        Close_Time Handle_Time_hrs  \\\n",
       "0      31-12-2013 14:06  31-12-2013 16:58  31-12-2013 16:58          99,975   \n",
       "1      31-12-2013 11:52  31-12-2013 16:23  31-12-2013 16:23          99,825   \n",
       "2      31-12-2013 11:38  31-12-2013 16:23  31-12-2013 16:23          99,675   \n",
       "3      31-12-2013 11:32  31-12-2013 16:21  31-12-2013 16:21          99,525   \n",
       "4      31-12-2013 11:08  31-12-2013 16:14  31-12-2013 16:15          99,425   \n",
       "...                 ...               ...               ...             ...   \n",
       "46601               NaN               NaN  01-02-2014 20:20               0   \n",
       "46602               NaN               NaN  01-02-2014 19:32               0   \n",
       "46603               NaN               NaN  01-02-2014 06:53               0   \n",
       "46604               NaN               NaN  01-01-2014 18:21               0   \n",
       "46605               NaN               NaN  01-01-2014 15:34             NaN   \n",
       "\n",
       "               Closure_Code No_of_Related_Interactions Related_Interaction  \\\n",
       "0      User manual not used                          9           SD0147088   \n",
       "1      User manual not used                          9           SD0147071   \n",
       "2      User manual not used                          9           SD0147021   \n",
       "3      User manual not used                          9           SD0147015   \n",
       "4      User manual not used                          9           SD0146993   \n",
       "...                     ...                        ...                 ...   \n",
       "46601                   NaN                        NaN         #MULTIVALUE   \n",
       "46602                   NaN                        NaN         #MULTIVALUE   \n",
       "46603                   NaN                        NaN         #MULTIVALUE   \n",
       "46604                   NaN                        NaN         #MULTIVALUE   \n",
       "46605                   NaN                        NaN         #MULTIVALUE   \n",
       "\n",
       "      No_of_Related_Incidents No_of_Related_Changes Related_Change  \n",
       "0                           9                     9      C00018549  \n",
       "1                           9                     3      C00018471  \n",
       "2                           9                     3      C00018435  \n",
       "3                           9                     2      C00018421  \n",
       "4                           9                     2      C00018403  \n",
       "...                       ...                   ...            ...  \n",
       "46601                     NaN                   NaN            NaN  \n",
       "46602                     NaN                   NaN            NaN  \n",
       "46603                     NaN                   NaN            NaN  \n",
       "46604                     NaN                   NaN            NaN  \n",
       "46605                     NaN                   NaN            NaN  \n",
       "\n",
       "[46606 rows x 25 columns]"
      ]
     },
     "execution_count": 17,
     "metadata": {},
     "output_type": "execute_result"
    }
   ],
   "source": [
    "#to sort all collumns\n",
    "df = data.apply(lambda x: x.sort_values(ascending=False).values)\n",
    "df\n"
   ]
  },
  {
   "cell_type": "code",
   "execution_count": 6,
   "metadata": {},
   "outputs": [],
   "source": [
    "#gather all incident managment problems intoone data set\n",
    "data1 = data.loc[data.Category=='incident']\n"
   ]
  },
  {
   "cell_type": "code",
   "execution_count": 7,
   "metadata": {
    "scrolled": true
   },
   "outputs": [
    {
     "name": "stdout",
     "output_type": "stream",
     "text": [
      "incident    37748\n",
      "Name: Category, dtype: int64\n",
      "Web Based Application              14650\n",
      "Server Based Application           12574\n",
      "Desktop Application                 3499\n",
      "Laptop                              1905\n",
      "Banking Device                       868\n",
      "                                   ...  \n",
      "Iptelephony                            1\n",
      "Application Server                     1\n",
      "Windows Server in extern beheer        1\n",
      "Protocol                               1\n",
      "Neoview Server                         1\n",
      "Name: CI_Subcat, Length: 63, dtype: int64\n",
      "4    22092\n",
      "5     8631\n",
      "3     6331\n",
      "2      688\n",
      "1        6\n",
      "Name: Urgency, dtype: int64\n",
      "4     22107\n",
      "5      8542\n",
      "3      5076\n",
      "NS     1335\n",
      "2       685\n",
      "1         3\n",
      "Name: Impact, dtype: int64\n",
      "4     22180\n",
      "5      8377\n",
      "3      5163\n",
      "NA     1335\n",
      "2       690\n",
      "1         3\n",
      "Name: Priority, dtype: int64\n",
      "0     23064\n",
      "1      6222\n",
      "2      3503\n",
      "3      1764\n",
      "4      1099\n",
      "5       612\n",
      "6       435\n",
      "7       286\n",
      "8       184\n",
      "9       134\n",
      "10      101\n",
      "11       78\n",
      "13       46\n",
      "12       41\n",
      "15       34\n",
      "14       31\n",
      "17       23\n",
      "16       17\n",
      "18       12\n",
      "21       10\n",
      "22        9\n",
      "19        8\n",
      "20        7\n",
      "25        7\n",
      "26        4\n",
      "23        4\n",
      "33        3\n",
      "30        2\n",
      "32        2\n",
      "24        2\n",
      "27        1\n",
      "42        1\n",
      "36        1\n",
      "46        1\n",
      "Name: No_of_Reassignments, dtype: int64\n",
      "WBS000073    13057\n",
      "WBS000091     2431\n",
      "WBS000263     1401\n",
      "WBS000318     1097\n",
      "WBS000152     1075\n",
      "             ...  \n",
      "WBS000243        1\n",
      "WBS000214        1\n",
      "WBS000304        1\n",
      "WBS000286        1\n",
      "WBS000160        1\n",
      "Name: WBS, Length: 262, dtype: int64\n",
      "application             25370\n",
      "subapplication           6788\n",
      "computer                 3544\n",
      "storage                   630\n",
      "hardware                  384\n",
      "software                  305\n",
      "database                  213\n",
      "displaydevice             163\n",
      "officeelectronics         152\n",
      "networkcomponents          95\n",
      "applicationcomponent        5\n",
      "Phone                       2\n",
      "Name: CI_Cat, dtype: int64\n",
      "1    508\n",
      "2     20\n",
      "3      2\n",
      "9      1\n",
      "Name: No_of_Related_Changes, dtype: int64\n"
     ]
    }
   ],
   "source": [
    "print( data1['Category'].value_counts())\n",
    "print(data1['CI_Subcat'].value_counts())\n",
    "print(data1['Urgency'].value_counts())\n",
    "print(data1['Impact'].value_counts())\n",
    "print(data1['Priority'].value_counts())\n",
    "print(data1['No_of_Reassignments'].value_counts())\n",
    "print(data1['WBS'].value_counts())\n",
    "print(data1['CI_Cat'].value_counts())\n",
    "print(data1['No_of_Related_Changes'].value_counts())"
   ]
  },
  {
   "cell_type": "code",
   "execution_count": 20,
   "metadata": {},
   "outputs": [
    {
     "data": {
      "text/plain": [
       "(37748, 25)"
      ]
     },
     "execution_count": 20,
     "metadata": {},
     "output_type": "execute_result"
    }
   ],
   "source": [
    "data1.shape"
   ]
  },
  {
   "cell_type": "code",
   "execution_count": 8,
   "metadata": {},
   "outputs": [
    {
     "name": "stderr",
     "output_type": "stream",
     "text": [
      "C:\\Users\\akhil_lvire0b\\Anaconda3\\lib\\site-packages\\pandas\\core\\frame.py:4102: SettingWithCopyWarning: \n",
      "A value is trying to be set on a copy of a slice from a DataFrame\n",
      "\n",
      "See the caveats in the documentation: http://pandas.pydata.org/pandas-docs/stable/user_guide/indexing.html#returning-a-view-versus-a-copy\n",
      "  errors=errors,\n"
     ]
    }
   ],
   "source": [
    "#drop reopen time\n",
    "data1.drop(['Reopen_Time'], axis=1,inplace=True)"
   ]
  },
  {
   "cell_type": "code",
   "execution_count": 22,
   "metadata": {},
   "outputs": [],
   "source": [
    "#data1.loc[(data1.Impact=='3') & (data1.Urgency=='3')]"
   ]
  },
  {
   "cell_type": "code",
   "execution_count": 85,
   "metadata": {
    "scrolled": false
   },
   "outputs": [
    {
     "data": {
      "text/plain": [
       "CI_Name                           0\n",
       "CI_Cat                            0\n",
       "CI_Subcat                         0\n",
       "WBS                               0\n",
       "Incident_ID                       0\n",
       "Status                            0\n",
       "Impact                            0\n",
       "Urgency                           0\n",
       "Priority                          0\n",
       "number_cnt                        0\n",
       "Category                          0\n",
       "KB_number                         0\n",
       "Alert_Status                      0\n",
       "No_of_Reassignments               0\n",
       "Open_Time                         0\n",
       "Resolved_Time                  1653\n",
       "Close_Time                        0\n",
       "Handle_Time_hrs                   0\n",
       "Closure_Code                    460\n",
       "No_of_Related_Interactions        0\n",
       "Related_Interaction               0\n",
       "No_of_Related_Incidents       36596\n",
       "No_of_Related_Changes         37217\n",
       "Related_Change                37217\n",
       "dtype: int64"
      ]
     },
     "execution_count": 85,
     "metadata": {},
     "output_type": "execute_result"
    }
   ],
   "source": [
    "data1.isnull().sum()"
   ]
  },
  {
   "cell_type": "code",
   "execution_count": 9,
   "metadata": {},
   "outputs": [
    {
     "name": "stderr",
     "output_type": "stream",
     "text": [
      "C:\\Users\\akhil_lvire0b\\Anaconda3\\lib\\site-packages\\pandas\\core\\generic.py:6786: SettingWithCopyWarning: \n",
      "A value is trying to be set on a copy of a slice from a DataFrame\n",
      "\n",
      "See the caveats in the documentation: http://pandas.pydata.org/pandas-docs/stable/user_guide/indexing.html#returning-a-view-versus-a-copy\n",
      "  self._update_inplace(new_data)\n"
     ]
    }
   ],
   "source": [
    "data1.CI_Cat.mode()\n",
    "data1.CI_Subcat.mode()\n",
    "data1.No_of_Related_Interactions.mode()\n",
    "data1.No_of_Related_Interactions.replace(np.nan,1 ,inplace=True)"
   ]
  },
  {
   "cell_type": "code",
   "execution_count": 10,
   "metadata": {},
   "outputs": [],
   "source": [
    "data1.CI_Cat.replace(np.nan,'application',inplace=True)\n",
    "data1.CI_Subcat.replace(np.nan,'Web Based Application',inplace=True)"
   ]
  },
  {
   "cell_type": "code",
   "execution_count": 11,
   "metadata": {
    "scrolled": true
   },
   "outputs": [],
   "source": [
    "#there are so many sub divisions in sub categry \n",
    "data1.CI_Subcat.replace('Desktop','Desktop Application',inplace=True)\n",
    "data1.CI_Subcat.replace(['Application Server','Virtual Tape Server','ESX Server','zOS Server','Neoview Server','X86 Server',\n",
    "                       'Unix Server','Oracle Server','Windows Server in extern beheer','Thin Client','NonStop Server',\n",
    "                       'Number','Windows Server','Linux Server',np.nan,'SharePoint Farm','Lines'],\n",
    "                       'Server Based Application',inplace=True)\n",
    "data1.CI_Subcat.replace('RAC Service','Banking Device',inplace=True)\n",
    "data1.CI_Subcat.replace(['Iptelephony','Protocol','Net Device','IPtelephony','ESX Cluster','Standard Application'],\n",
    "                       'Web Based Application',inplace=True)\n",
    "data1.CI_Subcat.replace(['VMWare','Security Software','zOS Systeem','Firewall','Database Software','VDI','Instance',\n",
    "                       'MQ Queue Manager','Automation Software','Citrix','SAP','Encryption'],'System Software',inplace=True)\n",
    "data1.CI_Subcat.replace(['UPS','Omgeving'],'Client Based Application',inplace=True)\n",
    "data1.CI_Subcat.replace(['NonStop Storage','NonStop Harddisk','Tape Library','zOS Cluster','DataCenterEquipment',\n",
    "                       'MigratieDummy'],'Database',inplace=True)\n",
    "data1.CI_Subcat.replace(['Modem','Router'],'Network Component',inplace=True)\n",
    "data1.CI_Subcat.replace('KVM Switches','Switch',inplace=True)\n",
    "                    \n"
   ]
  },
  {
   "cell_type": "code",
   "execution_count": 12,
   "metadata": {},
   "outputs": [],
   "source": [
    "data1.CI_Subcat.replace(['Monitor','Controller','Printer','Scanner','Switch','Network Component','Keyboard'],'Hardware',inplace=True)"
   ]
  },
  {
   "cell_type": "code",
   "execution_count": 13,
   "metadata": {},
   "outputs": [],
   "source": [
    "data1.CI_Cat.replace(['database'],'storage',inplace=True)\n",
    "data1.CI_Cat.replace(['applicationcomponent'],'subapplication',inplace=True)\n",
    "data1.CI_Cat.replace(['displaydevice','officeelectronics','Phone','networkcomponents'],'hardware',inplace=True)\n"
   ]
  },
  {
   "cell_type": "code",
   "execution_count": 14,
   "metadata": {},
   "outputs": [],
   "source": [
    "\n",
    "data1.No_of_Related_Interactions.replace(np.nan,'1',inplace=True)"
   ]
  },
  {
   "cell_type": "code",
   "execution_count": 15,
   "metadata": {},
   "outputs": [],
   "source": [
    "X = data1.loc[:,['CI_Cat','CI_Subcat','WBS','KB_number']]\n",
    "y=data1.Priority"
   ]
  },
  {
   "cell_type": "code",
   "execution_count": 31,
   "metadata": {},
   "outputs": [],
   "source": [
    "from sklearn.preprocessing import LabelEncoder , StandardScaler\n",
    "enc = LabelEncoder()\n",
    "X[['CI_Cat','CI_Subcat','WBS','KB_number']] = \\\n",
    "X[['CI_Cat','CI_Subcat','WBS','KB_number']].apply(enc.fit_transform)"
   ]
  },
  {
   "cell_type": "code",
   "execution_count": 32,
   "metadata": {},
   "outputs": [],
   "source": [
    "from sklearn.model_selection import train_test_split\n",
    "X_train, X_test, y_train, y_test = train_test_split(X,y,test_size=0.3,random_state=10)"
   ]
  },
  {
   "cell_type": "code",
   "execution_count": 20,
   "metadata": {},
   "outputs": [],
   "source": [
    "from sklearn.metrics import accuracy_score, classification_report, confusion_matrix"
   ]
  },
  {
   "cell_type": "code",
   "execution_count": 21,
   "metadata": {},
   "outputs": [],
   "source": [
    "from sklearn.preprocessing import LabelEncoder , StandardScaler"
   ]
  },
  {
   "cell_type": "code",
   "execution_count": 22,
   "metadata": {},
   "outputs": [],
   "source": [
    "sc = StandardScaler()\n",
    "X_train = sc.fit_transform(X_train)\n",
    "X_test = sc.transform(X_test)"
   ]
  },
  {
   "cell_type": "markdown",
   "metadata": {},
   "source": [
    "RANDOM FOREST"
   ]
  },
  {
   "cell_type": "code",
   "execution_count": 27,
   "metadata": {},
   "outputs": [],
   "source": [
    "from sklearn.ensemble import RandomForestClassifier"
   ]
  },
  {
   "cell_type": "code",
   "execution_count": 78,
   "metadata": {},
   "outputs": [
    {
     "data": {
      "text/plain": [
       "RandomForestClassifier(bootstrap=True, ccp_alpha=0.0, class_weight=None,\n",
       "                       criterion='gini', max_depth=40, max_features=3,\n",
       "                       max_leaf_nodes=None, max_samples=None,\n",
       "                       min_impurity_decrease=0.0, min_impurity_split=None,\n",
       "                       min_samples_leaf=1, min_samples_split=2,\n",
       "                       min_weight_fraction_leaf=0.0, n_estimators=90,\n",
       "                       n_jobs=None, oob_score=False, random_state=14, verbose=0,\n",
       "                       warm_start=False)"
      ]
     },
     "execution_count": 78,
     "metadata": {},
     "output_type": "execute_result"
    }
   ],
   "source": [
    "\n",
    "model = RandomForestClassifier(n_estimators = 90, max_depth=40, max_features=3,criterion='gini',random_state=14)\n",
    "model.fit(X_train,y_train)\n"
   ]
  },
  {
   "cell_type": "code",
   "execution_count": 79,
   "metadata": {},
   "outputs": [
    {
     "name": "stdout",
     "output_type": "stream",
     "text": [
      "0.8716997792494481\n",
      "              precision    recall  f1-score   support\n",
      "\n",
      "           2       0.57      0.63      0.60       222\n",
      "           3       0.70      0.77      0.73      1556\n",
      "           4       0.92      0.95      0.93      6582\n",
      "           5       0.91      0.88      0.90      2536\n",
      "          NA       0.19      0.02      0.03       429\n",
      "\n",
      "    accuracy                           0.87     11325\n",
      "   macro avg       0.66      0.65      0.64     11325\n",
      "weighted avg       0.85      0.87      0.86     11325\n",
      "\n"
     ]
    }
   ],
   "source": [
    "y_predict = model.predict(X_test)\n",
    "print(accuracy_score(y_test,y_predict))\n",
    "print(classification_report(y_test,y_predict))\n"
   ]
  },
  {
   "cell_type": "code",
   "execution_count": 23,
   "metadata": {},
   "outputs": [],
   "source": [
    "from sklearn.model_selection import GridSearchCV\n"
   ]
  },
  {
   "cell_type": "code",
   "execution_count": 66,
   "metadata": {},
   "outputs": [
    {
     "name": "stderr",
     "output_type": "stream",
     "text": [
      "C:\\Users\\akhil_lvire0b\\Anaconda3\\lib\\site-packages\\sklearn\\model_selection\\_split.py:667: UserWarning: The least populated class in y has only 3 members, which is less than n_splits=5.\n",
      "  % (min_groups, self.n_splits)), UserWarning)\n"
     ]
    },
    {
     "data": {
      "text/plain": [
       "GridSearchCV(cv=None, error_score=nan,\n",
       "             estimator=RandomForestClassifier(bootstrap=True, ccp_alpha=0.0,\n",
       "                                              class_weight=None,\n",
       "                                              criterion='gini', max_depth=None,\n",
       "                                              max_features='auto',\n",
       "                                              max_leaf_nodes=None,\n",
       "                                              max_samples=None,\n",
       "                                              min_impurity_decrease=0.0,\n",
       "                                              min_impurity_split=None,\n",
       "                                              min_samples_leaf=1,\n",
       "                                              min_samples_split=2,\n",
       "                                              min_weight_fraction_leaf=0.0,\n",
       "                                              n_estimators=100, n_jobs=None,\n",
       "                                              oob_score=False,\n",
       "                                              random_state=None, verbose=0,\n",
       "                                              warm_start=False),\n",
       "             iid='deprecated', n_jobs=None,\n",
       "             param_grid={'max_depth': [32, 40, 50, 90],\n",
       "                         'max_features': [2, 3, 4],\n",
       "                         'n_estimators': [50, 70, 90, 100]},\n",
       "             pre_dispatch='2*n_jobs', refit=True, return_train_score=False,\n",
       "             scoring=None, verbose=0)"
      ]
     },
     "execution_count": 66,
     "metadata": {},
     "output_type": "execute_result"
    }
   ],
   "source": [
    "model = RandomForestClassifier()\n",
    "parameters = { 'n_estimators':[50,70,90,100],\n",
    "                'max_depth' :[32,40,50,90],\n",
    "                'max_features' : [2,3,4]}\n",
    "grid_model = GridSearchCV(estimator = model,param_grid = parameters)\n",
    "grid_model.fit(X_train, y_train)"
   ]
  },
  {
   "cell_type": "code",
   "execution_count": 67,
   "metadata": {},
   "outputs": [
    {
     "name": "stdout",
     "output_type": "stream",
     "text": [
      "0.876244022582588\n"
     ]
    },
    {
     "data": {
      "text/plain": [
       "{'max_depth': 40, 'max_features': 3, 'n_estimators': 90}"
      ]
     },
     "execution_count": 67,
     "metadata": {},
     "output_type": "execute_result"
    }
   ],
   "source": [
    "print(grid_model.best_score_)\n",
    "grid_model.best_params_"
   ]
  },
  {
   "cell_type": "code",
   "execution_count": 80,
   "metadata": {},
   "outputs": [
    {
     "data": {
      "text/html": [
       "<div>\n",
       "<style scoped>\n",
       "    .dataframe tbody tr th:only-of-type {\n",
       "        vertical-align: middle;\n",
       "    }\n",
       "\n",
       "    .dataframe tbody tr th {\n",
       "        vertical-align: top;\n",
       "    }\n",
       "\n",
       "    .dataframe thead th {\n",
       "        text-align: right;\n",
       "    }\n",
       "</style>\n",
       "<table border=\"1\" class=\"dataframe\">\n",
       "  <thead>\n",
       "    <tr style=\"text-align: right;\">\n",
       "      <th></th>\n",
       "      <th>0</th>\n",
       "      <th>1</th>\n",
       "      <th>2</th>\n",
       "      <th>3</th>\n",
       "      <th>4</th>\n",
       "    </tr>\n",
       "  </thead>\n",
       "  <tbody>\n",
       "    <tr>\n",
       "      <td>0</td>\n",
       "      <td>140</td>\n",
       "      <td>17</td>\n",
       "      <td>42</td>\n",
       "      <td>23</td>\n",
       "      <td>0</td>\n",
       "    </tr>\n",
       "    <tr>\n",
       "      <td>1</td>\n",
       "      <td>49</td>\n",
       "      <td>1198</td>\n",
       "      <td>224</td>\n",
       "      <td>65</td>\n",
       "      <td>20</td>\n",
       "    </tr>\n",
       "    <tr>\n",
       "      <td>2</td>\n",
       "      <td>46</td>\n",
       "      <td>119</td>\n",
       "      <td>6285</td>\n",
       "      <td>127</td>\n",
       "      <td>5</td>\n",
       "    </tr>\n",
       "    <tr>\n",
       "      <td>3</td>\n",
       "      <td>3</td>\n",
       "      <td>39</td>\n",
       "      <td>248</td>\n",
       "      <td>2242</td>\n",
       "      <td>4</td>\n",
       "    </tr>\n",
       "    <tr>\n",
       "      <td>4</td>\n",
       "      <td>7</td>\n",
       "      <td>338</td>\n",
       "      <td>67</td>\n",
       "      <td>10</td>\n",
       "      <td>7</td>\n",
       "    </tr>\n",
       "  </tbody>\n",
       "</table>\n",
       "</div>"
      ],
      "text/plain": [
       "     0     1     2     3   4\n",
       "0  140    17    42    23   0\n",
       "1   49  1198   224    65  20\n",
       "2   46   119  6285   127   5\n",
       "3    3    39   248  2242   4\n",
       "4    7   338    67    10   7"
      ]
     },
     "execution_count": 80,
     "metadata": {},
     "output_type": "execute_result"
    }
   ],
   "source": [
    "\n",
    "pd.DataFrame(confusion_matrix(y_test,y_predict))"
   ]
  },
  {
   "cell_type": "markdown",
   "metadata": {},
   "source": [
    "SVM"
   ]
  },
  {
   "cell_type": "code",
   "execution_count": 81,
   "metadata": {},
   "outputs": [],
   "source": [
    "from sklearn.svm import SVC\n",
    "\n",
    "model = SVC()\n",
    "#model = SVC(kernel='rbf',C=100,gamma=0.2)"
   ]
  },
  {
   "cell_type": "code",
   "execution_count": 82,
   "metadata": {},
   "outputs": [
    {
     "data": {
      "text/plain": [
       "SVC(C=1.0, break_ties=False, cache_size=200, class_weight=None, coef0=0.0,\n",
       "    decision_function_shape='ovr', degree=3, gamma='scale', kernel='rbf',\n",
       "    max_iter=-1, probability=False, random_state=None, shrinking=True,\n",
       "    tol=0.001, verbose=False)"
      ]
     },
     "execution_count": 82,
     "metadata": {},
     "output_type": "execute_result"
    }
   ],
   "source": [
    "model.fit(X_train,y_train)"
   ]
  },
  {
   "cell_type": "code",
   "execution_count": 83,
   "metadata": {},
   "outputs": [],
   "source": [
    "y_predict = model.predict(X_test)"
   ]
  },
  {
   "cell_type": "code",
   "execution_count": 84,
   "metadata": {},
   "outputs": [
    {
     "name": "stdout",
     "output_type": "stream",
     "text": [
      "0.7213245033112583\n",
      "              precision    recall  f1-score   support\n",
      "\n",
      "           2       0.51      0.62      0.56       222\n",
      "           3       0.51      0.45      0.48      1556\n",
      "           4       0.75      0.92      0.83      6582\n",
      "           5       0.80      0.50      0.62      2536\n",
      "          NA       0.00      0.00      0.00       429\n",
      "\n",
      "    accuracy                           0.72     11325\n",
      "   macro avg       0.51      0.50      0.50     11325\n",
      "weighted avg       0.69      0.72      0.69     11325\n",
      "\n"
     ]
    },
    {
     "name": "stderr",
     "output_type": "stream",
     "text": [
      "C:\\Users\\akhil_lvire0b\\Anaconda3\\lib\\site-packages\\sklearn\\metrics\\_classification.py:1272: UndefinedMetricWarning: Precision and F-score are ill-defined and being set to 0.0 in labels with no predicted samples. Use `zero_division` parameter to control this behavior.\n",
      "  _warn_prf(average, modifier, msg_start, len(result))\n"
     ]
    }
   ],
   "source": [
    "print(accuracy_score(y_test,y_predict))\n",
    "print(classification_report(y_test,y_predict))"
   ]
  },
  {
   "cell_type": "markdown",
   "metadata": {},
   "source": [
    "NEURAL NETWORK"
   ]
  },
  {
   "cell_type": "code",
   "execution_count": 85,
   "metadata": {},
   "outputs": [],
   "source": [
    "from sklearn.neural_network import MLPClassifier\n",
    "model = MLPClassifier(hidden_layer_sizes=(1000,500,300,100,90,70,40), learning_rate_init=0.1, max_iter=100000, random_state = 10, activation = 'relu')"
   ]
  },
  {
   "cell_type": "code",
   "execution_count": 86,
   "metadata": {},
   "outputs": [
    {
     "data": {
      "text/plain": [
       "MLPClassifier(activation='relu', alpha=0.0001, batch_size='auto', beta_1=0.9,\n",
       "              beta_2=0.999, early_stopping=False, epsilon=1e-08,\n",
       "              hidden_layer_sizes=(1000, 500, 300, 100, 90, 70, 40),\n",
       "              learning_rate='constant', learning_rate_init=0.1, max_fun=15000,\n",
       "              max_iter=100000, momentum=0.9, n_iter_no_change=10,\n",
       "              nesterovs_momentum=True, power_t=0.5, random_state=10,\n",
       "              shuffle=True, solver='adam', tol=0.0001, validation_fraction=0.1,\n",
       "              verbose=False, warm_start=False)"
      ]
     },
     "execution_count": 86,
     "metadata": {},
     "output_type": "execute_result"
    }
   ],
   "source": [
    "model.fit(X_train,y_train)"
   ]
  },
  {
   "cell_type": "code",
   "execution_count": 87,
   "metadata": {},
   "outputs": [],
   "source": [
    "y_predict = model.predict(X_test)"
   ]
  },
  {
   "cell_type": "code",
   "execution_count": 88,
   "metadata": {},
   "outputs": [
    {
     "name": "stdout",
     "output_type": "stream",
     "text": [
      "0.5811920529801324\n",
      "              precision    recall  f1-score   support\n",
      "\n",
      "           2       0.00      0.00      0.00       222\n",
      "           3       0.00      0.00      0.00      1556\n",
      "           4       0.58      1.00      0.74      6582\n",
      "           5       0.00      0.00      0.00      2536\n",
      "          NA       0.00      0.00      0.00       429\n",
      "\n",
      "    accuracy                           0.58     11325\n",
      "   macro avg       0.12      0.20      0.15     11325\n",
      "weighted avg       0.34      0.58      0.43     11325\n",
      "\n"
     ]
    },
    {
     "name": "stderr",
     "output_type": "stream",
     "text": [
      "C:\\Users\\akhil_lvire0b\\Anaconda3\\lib\\site-packages\\sklearn\\metrics\\_classification.py:1272: UndefinedMetricWarning: Precision and F-score are ill-defined and being set to 0.0 in labels with no predicted samples. Use `zero_division` parameter to control this behavior.\n",
      "  _warn_prf(average, modifier, msg_start, len(result))\n"
     ]
    }
   ],
   "source": [
    "print(accuracy_score(y_test,y_predict))\n",
    "print(classification_report(y_test,y_predict))"
   ]
  },
  {
   "cell_type": "markdown",
   "metadata": {},
   "source": [
    "XGBoost"
   ]
  },
  {
   "cell_type": "code",
   "execution_count": 24,
   "metadata": {},
   "outputs": [
    {
     "data": {
      "text/plain": [
       "XGBClassifier(base_score=0.5, booster='gbtree', colsample_bylevel=1,\n",
       "              colsample_bynode=1, colsample_bytree=1, gamma=0.2,\n",
       "              learning_rate=0.2, max_delta_step=0, max_depth=6,\n",
       "              min_child_weight=1, missing=None, n_estimators=200, n_jobs=1,\n",
       "              nthread=None, objective='multi:softprob', random_state=10,\n",
       "              reg_alpha=1, reg_lambda=1, scale_pos_weight=1, seed=None,\n",
       "              silent=None, subsample=1, verbosity=1)"
      ]
     },
     "execution_count": 24,
     "metadata": {},
     "output_type": "execute_result"
    }
   ],
   "source": [
    "from xgboost import XGBClassifier\n",
    "model = XGBClassifier (learning_rate=0.2, n_estimators=200,max_depth=6,min_child_weight=1,gamma = 0.2,colsample_bylevel=1,colsample_bytree=1,subsample =1,reg_alpha=1,reg_lambda=1,random_state=10)\n",
    "model.fit(X_train,y_train)\n"
   ]
  },
  {
   "cell_type": "code",
   "execution_count": null,
   "metadata": {},
   "outputs": [
    {
     "name": "stderr",
     "output_type": "stream",
     "text": [
      "C:\\Users\\akhil_lvire0b\\Anaconda3\\lib\\site-packages\\sklearn\\model_selection\\_split.py:667: UserWarning: The least populated class in y has only 3 members, which is less than n_splits=5.\n",
      "  % (min_groups, self.n_splits)), UserWarning)\n"
     ]
    }
   ],
   "source": [
    "model = XGBClassifier()\n",
    "parameters = { 'learning_rat2':[0.01,0.1,0.2,0.05],\n",
    "               'n_estimators':[100,200,300],\n",
    "                'max_depth' :[5,6,9,13],\n",
    "                'gamma' : [0.01,0.05,0.1,0.2,0.3]}\n",
    "grid_model = GridSearchCV(estimator = model,param_grid = parameters)\n",
    "grid_model.fit(X_train, y_train)"
   ]
  },
  {
   "cell_type": "code",
   "execution_count": 25,
   "metadata": {},
   "outputs": [
    {
     "name": "stdout",
     "output_type": "stream",
     "text": [
      "0.870551876379691\n",
      "              precision    recall  f1-score   support\n",
      "\n",
      "           2       0.59      0.69      0.64       222\n",
      "           3       0.71      0.77      0.74      1556\n",
      "           4       0.91      0.96      0.93      6582\n",
      "           5       0.92      0.86      0.89      2536\n",
      "          NA       0.12      0.00      0.01       429\n",
      "\n",
      "    accuracy                           0.87     11325\n",
      "   macro avg       0.65      0.66      0.64     11325\n",
      "weighted avg       0.85      0.87      0.86     11325\n",
      "\n"
     ]
    }
   ],
   "source": [
    "y_predict = model.predict(X_test)\n",
    "print(accuracy_score(y_test,y_predict))\n",
    "print(classification_report(y_test,y_predict))"
   ]
  },
  {
   "cell_type": "markdown",
   "metadata": {},
   "source": [
    "forecasting"
   ]
  },
  {
   "cell_type": "code",
   "execution_count": 108,
   "metadata": {},
   "outputs": [],
   "source": [
    "data2 = data1.loc[:,['Incident_ID','Open_Time']]"
   ]
  },
  {
   "cell_type": "code",
   "execution_count": 109,
   "metadata": {},
   "outputs": [
    {
     "data": {
      "text/plain": [
       "37748"
      ]
     },
     "execution_count": 109,
     "metadata": {},
     "output_type": "execute_result"
    }
   ],
   "source": [
    "import datetime as dt\n",
    "len(data2.Open_Time)\n"
   ]
  },
  {
   "cell_type": "code",
   "execution_count": 110,
   "metadata": {},
   "outputs": [],
   "source": [
    "\n",
    "import warnings\n",
    "warnings.filterwarnings('ignore')"
   ]
  },
  {
   "cell_type": "code",
   "execution_count": 111,
   "metadata": {},
   "outputs": [],
   "source": [
    "incfrq = data.loc[:,['Incident_ID','Open_Time']]"
   ]
  },
  {
   "cell_type": "code",
   "execution_count": 112,
   "metadata": {},
   "outputs": [
    {
     "data": {
      "text/html": [
       "<div>\n",
       "<style scoped>\n",
       "    .dataframe tbody tr th:only-of-type {\n",
       "        vertical-align: middle;\n",
       "    }\n",
       "\n",
       "    .dataframe tbody tr th {\n",
       "        vertical-align: top;\n",
       "    }\n",
       "\n",
       "    .dataframe thead th {\n",
       "        text-align: right;\n",
       "    }\n",
       "</style>\n",
       "<table border=\"1\" class=\"dataframe\">\n",
       "  <thead>\n",
       "    <tr style=\"text-align: right;\">\n",
       "      <th></th>\n",
       "      <th>Incident_ID</th>\n",
       "      <th>Open_Time</th>\n",
       "    </tr>\n",
       "  </thead>\n",
       "  <tbody>\n",
       "    <tr>\n",
       "      <td>0</td>\n",
       "      <td>IM0000004</td>\n",
       "      <td>05-02-2012 13:32</td>\n",
       "    </tr>\n",
       "    <tr>\n",
       "      <td>1</td>\n",
       "      <td>IM0000005</td>\n",
       "      <td>12-03-2012 15:44</td>\n",
       "    </tr>\n",
       "    <tr>\n",
       "      <td>2</td>\n",
       "      <td>IM0000006</td>\n",
       "      <td>29-03-2012 12:36</td>\n",
       "    </tr>\n",
       "    <tr>\n",
       "      <td>3</td>\n",
       "      <td>IM0000011</td>\n",
       "      <td>17-07-2012 11:49</td>\n",
       "    </tr>\n",
       "    <tr>\n",
       "      <td>4</td>\n",
       "      <td>IM0000012</td>\n",
       "      <td>10-08-2012 11:01</td>\n",
       "    </tr>\n",
       "  </tbody>\n",
       "</table>\n",
       "</div>"
      ],
      "text/plain": [
       "  Incident_ID         Open_Time\n",
       "0   IM0000004  05-02-2012 13:32\n",
       "1   IM0000005  12-03-2012 15:44\n",
       "2   IM0000006  29-03-2012 12:36\n",
       "3   IM0000011  17-07-2012 11:49\n",
       "4   IM0000012  10-08-2012 11:01"
      ]
     },
     "execution_count": 112,
     "metadata": {},
     "output_type": "execute_result"
    }
   ],
   "source": [
    "\n",
    "incfrq.head()"
   ]
  },
  {
   "cell_type": "code",
   "execution_count": 113,
   "metadata": {},
   "outputs": [],
   "source": [
    "# Coverting all the values in proper Datetime format\n",
    "for i in range(len(incfrq.Open_Time)):\n",
    "    if (incfrq.Open_Time[i][1]=='/'):\n",
    "        incfrq.Open_Time[i] = dt.datetime.strptime(incfrq.Open_Time[i],'%d/%m/%Y %H:%M').date()\n",
    "    elif (incfrq.Open_Time[i][2]=='/'):\n",
    "        incfrq.Open_Time[i] = dt.datetime.strptime(incfrq.Open_Time[i],'%d/%m/%Y %H:%M').date()\n",
    "    else:\n",
    "        incfrq.Open_Time[i] = dt.datetime.strptime(incfrq.Open_Time[i],'%d-%m-%Y %H:%M').date()"
   ]
  },
  {
   "cell_type": "code",
   "execution_count": 121,
   "metadata": {},
   "outputs": [
    {
     "data": {
      "text/html": [
       "<div>\n",
       "<style scoped>\n",
       "    .dataframe tbody tr th:only-of-type {\n",
       "        vertical-align: middle;\n",
       "    }\n",
       "\n",
       "    .dataframe tbody tr th {\n",
       "        vertical-align: top;\n",
       "    }\n",
       "\n",
       "    .dataframe thead th {\n",
       "        text-align: right;\n",
       "    }\n",
       "</style>\n",
       "<table border=\"1\" class=\"dataframe\">\n",
       "  <thead>\n",
       "    <tr style=\"text-align: right;\">\n",
       "      <th></th>\n",
       "      <th>Open_Time</th>\n",
       "      <th>No_Incidents</th>\n",
       "      <th>month</th>\n",
       "    </tr>\n",
       "  </thead>\n",
       "  <tbody>\n",
       "    <tr>\n",
       "      <td>0</td>\n",
       "      <td>2012-02-05</td>\n",
       "      <td>1</td>\n",
       "      <td>2</td>\n",
       "    </tr>\n",
       "    <tr>\n",
       "      <td>1</td>\n",
       "      <td>2012-03-12</td>\n",
       "      <td>1</td>\n",
       "      <td>3</td>\n",
       "    </tr>\n",
       "    <tr>\n",
       "      <td>2</td>\n",
       "      <td>2012-03-29</td>\n",
       "      <td>1</td>\n",
       "      <td>3</td>\n",
       "    </tr>\n",
       "    <tr>\n",
       "      <td>3</td>\n",
       "      <td>2012-07-17</td>\n",
       "      <td>1</td>\n",
       "      <td>7</td>\n",
       "    </tr>\n",
       "    <tr>\n",
       "      <td>4</td>\n",
       "      <td>2012-08-10</td>\n",
       "      <td>2</td>\n",
       "      <td>8</td>\n",
       "    </tr>\n",
       "  </tbody>\n",
       "</table>\n",
       "</div>"
      ],
      "text/plain": [
       "    Open_Time  No_Incidents  month\n",
       "0  2012-02-05             1      2\n",
       "1  2012-03-12             1      3\n",
       "2  2012-03-29             1      3\n",
       "3  2012-07-17             1      7\n",
       "4  2012-08-10             2      8"
      ]
     },
     "execution_count": 121,
     "metadata": {},
     "output_type": "execute_result"
    }
   ],
   "source": [
    "incfrq.head()"
   ]
  },
  {
   "cell_type": "code",
   "execution_count": 115,
   "metadata": {},
   "outputs": [],
   "source": [
    "incfrq['No_Incidents'] = incfrq.groupby('Open_Time')['Incident_ID'].transform('count')"
   ]
  },
  {
   "cell_type": "code",
   "execution_count": 116,
   "metadata": {},
   "outputs": [],
   "source": [
    "incfrq.drop(['Incident_ID'],axis=1,inplace=True)\n",
    "incfrq.drop_duplicates(inplace=True)"
   ]
  },
  {
   "cell_type": "code",
   "execution_count": 117,
   "metadata": {},
   "outputs": [
    {
     "data": {
      "text/plain": [
       "Index(['Open_Time', 'No_Incidents'], dtype='object')"
      ]
     },
     "execution_count": 117,
     "metadata": {},
     "output_type": "execute_result"
    }
   ],
   "source": [
    "incfrq.columns"
   ]
  },
  {
   "cell_type": "code",
   "execution_count": 91,
   "metadata": {},
   "outputs": [
    {
     "data": {
      "text/plain": [
       "DatetimeIndex(['2012-02-05', '2012-03-12', '2012-03-29', '2012-07-17',\n",
       "               '2012-08-10', '2012-08-15', '2012-08-22', '2012-08-29',\n",
       "               '2012-09-03', '2012-09-21',\n",
       "               ...\n",
       "               '2014-03-22', '2014-03-24', '2014-03-23', '2014-03-25',\n",
       "               '2014-03-26', '2014-03-27', '2014-03-28', '2014-03-29',\n",
       "               '2014-03-30', '2014-03-31'],\n",
       "              dtype='datetime64[ns]', name='Open_Time', length=331, freq=None)"
      ]
     },
     "execution_count": 91,
     "metadata": {},
     "output_type": "execute_result"
    }
   ],
   "source": [
    "incfrq = incfrq.set_index('Open_Time')\n",
    "incfrq.index = pd.to_datetime(incfrq.index)\n",
    "incfrq.index"
   ]
  },
  {
   "cell_type": "code",
   "execution_count": 93,
   "metadata": {},
   "outputs": [
    {
     "data": {
      "text/plain": [
       "No_Incidents    0\n",
       "dtype: int64"
      ]
     },
     "execution_count": 93,
     "metadata": {},
     "output_type": "execute_result"
    }
   ],
   "source": [
    "incfrq.head()\n",
    "incfrq.isnull().sum()\n"
   ]
  },
  {
   "cell_type": "code",
   "execution_count": 94,
   "metadata": {},
   "outputs": [
    {
     "name": "stdout",
     "output_type": "stream",
     "text": [
      "2012-02-05 00:00:00 to 2014-03-31 00:00:00\n"
     ]
    }
   ],
   "source": [
    "print(incfrq.index.min(),'to',incfrq.index.max())"
   ]
  },
  {
   "cell_type": "code",
   "execution_count": 118,
   "metadata": {},
   "outputs": [],
   "source": [
    "\n",
    "# Making a new Series with frequency as Day\n",
    "data2 = incfrq['No_Incidents']\n",
    "data2 = data1.asfreq('D')\n",
    "#data2.index"
   ]
  },
  {
   "cell_type": "code",
   "execution_count": 119,
   "metadata": {},
   "outputs": [],
   "source": [
    "incfrq.dropna(inplace = True)"
   ]
  },
  {
   "cell_type": "code",
   "execution_count": 99,
   "metadata": {
    "collapsed": true
   },
   "outputs": [
    {
     "ename": "KeyError",
     "evalue": "'month'",
     "output_type": "error",
     "traceback": [
      "\u001b[1;31m---------------------------------------------------------------------------\u001b[0m",
      "\u001b[1;31mKeyError\u001b[0m                                  Traceback (most recent call last)",
      "\u001b[1;32m~\\Anaconda3\\lib\\site-packages\\pandas\\core\\indexes\\base.py\u001b[0m in \u001b[0;36mget_loc\u001b[1;34m(self, key, method, tolerance)\u001b[0m\n\u001b[0;32m   2896\u001b[0m             \u001b[1;32mtry\u001b[0m\u001b[1;33m:\u001b[0m\u001b[1;33m\u001b[0m\u001b[1;33m\u001b[0m\u001b[0m\n\u001b[1;32m-> 2897\u001b[1;33m                 \u001b[1;32mreturn\u001b[0m \u001b[0mself\u001b[0m\u001b[1;33m.\u001b[0m\u001b[0m_engine\u001b[0m\u001b[1;33m.\u001b[0m\u001b[0mget_loc\u001b[0m\u001b[1;33m(\u001b[0m\u001b[0mkey\u001b[0m\u001b[1;33m)\u001b[0m\u001b[1;33m\u001b[0m\u001b[1;33m\u001b[0m\u001b[0m\n\u001b[0m\u001b[0;32m   2898\u001b[0m             \u001b[1;32mexcept\u001b[0m \u001b[0mKeyError\u001b[0m\u001b[1;33m:\u001b[0m\u001b[1;33m\u001b[0m\u001b[1;33m\u001b[0m\u001b[0m\n",
      "\u001b[1;32mpandas\\_libs\\index.pyx\u001b[0m in \u001b[0;36mpandas._libs.index.IndexEngine.get_loc\u001b[1;34m()\u001b[0m\n",
      "\u001b[1;32mpandas\\_libs\\index.pyx\u001b[0m in \u001b[0;36mpandas._libs.index.IndexEngine.get_loc\u001b[1;34m()\u001b[0m\n",
      "\u001b[1;32mpandas\\_libs\\hashtable_class_helper.pxi\u001b[0m in \u001b[0;36mpandas._libs.hashtable.PyObjectHashTable.get_item\u001b[1;34m()\u001b[0m\n",
      "\u001b[1;32mpandas\\_libs\\hashtable_class_helper.pxi\u001b[0m in \u001b[0;36mpandas._libs.hashtable.PyObjectHashTable.get_item\u001b[1;34m()\u001b[0m\n",
      "\u001b[1;31mKeyError\u001b[0m: 'month'",
      "\nDuring handling of the above exception, another exception occurred:\n",
      "\u001b[1;31mKeyError\u001b[0m                                  Traceback (most recent call last)",
      "\u001b[1;32m<ipython-input-99-8f7703f2adca>\u001b[0m in \u001b[0;36m<module>\u001b[1;34m\u001b[0m\n\u001b[0;32m      1\u001b[0m \u001b[0mlabel_names\u001b[0m \u001b[1;33m=\u001b[0m \u001b[1;33m[\u001b[0m\u001b[1;34m'January'\u001b[0m\u001b[1;33m,\u001b[0m \u001b[1;34m'February'\u001b[0m\u001b[1;33m,\u001b[0m \u001b[1;34m'March'\u001b[0m\u001b[1;33m,\u001b[0m \u001b[1;34m'April'\u001b[0m\u001b[1;33m,\u001b[0m \u001b[1;34m'May'\u001b[0m\u001b[1;33m,\u001b[0m \u001b[1;34m'June'\u001b[0m\u001b[1;33m,\u001b[0m \u001b[1;34m'July'\u001b[0m\u001b[1;33m,\u001b[0m \u001b[1;34m'August'\u001b[0m\u001b[1;33m,\u001b[0m \u001b[1;34m'September'\u001b[0m\u001b[1;33m,\u001b[0m \u001b[1;34m'October'\u001b[0m\u001b[1;33m,\u001b[0m \u001b[1;34m'November'\u001b[0m\u001b[1;33m,\u001b[0m \u001b[1;34m'December'\u001b[0m\u001b[1;33m]\u001b[0m\u001b[1;33m\u001b[0m\u001b[1;33m\u001b[0m\u001b[0m\n\u001b[0;32m      2\u001b[0m \u001b[1;33m\u001b[0m\u001b[0m\n\u001b[1;32m----> 3\u001b[1;33m \u001b[0mplt\u001b[0m\u001b[1;33m.\u001b[0m\u001b[0mpie\u001b[0m\u001b[1;33m(\u001b[0m\u001b[0mincfrq\u001b[0m\u001b[1;33m[\u001b[0m\u001b[1;34m'month'\u001b[0m\u001b[1;33m]\u001b[0m\u001b[1;33m,\u001b[0m\u001b[0mincfrq\u001b[0m\u001b[1;33m[\u001b[0m\u001b[1;34m'No_Incidents'\u001b[0m\u001b[1;33m]\u001b[0m\u001b[1;33m,\u001b[0m\u001b[0mlabels\u001b[0m\u001b[1;33m=\u001b[0m\u001b[0mlabel_names\u001b[0m\u001b[1;33m,\u001b[0m\u001b[0mautopct\u001b[0m\u001b[1;33m=\u001b[0m\u001b[1;34m'%.2f'\u001b[0m\u001b[1;33m,\u001b[0m\u001b[0mshadow\u001b[0m\u001b[1;33m=\u001b[0m\u001b[1;32mTrue\u001b[0m\u001b[1;33m)\u001b[0m\u001b[1;33m\u001b[0m\u001b[1;33m\u001b[0m\u001b[0m\n\u001b[0m",
      "\u001b[1;32m~\\Anaconda3\\lib\\site-packages\\pandas\\core\\frame.py\u001b[0m in \u001b[0;36m__getitem__\u001b[1;34m(self, key)\u001b[0m\n\u001b[0;32m   2978\u001b[0m             \u001b[1;32mif\u001b[0m \u001b[0mself\u001b[0m\u001b[1;33m.\u001b[0m\u001b[0mcolumns\u001b[0m\u001b[1;33m.\u001b[0m\u001b[0mnlevels\u001b[0m \u001b[1;33m>\u001b[0m \u001b[1;36m1\u001b[0m\u001b[1;33m:\u001b[0m\u001b[1;33m\u001b[0m\u001b[1;33m\u001b[0m\u001b[0m\n\u001b[0;32m   2979\u001b[0m                 \u001b[1;32mreturn\u001b[0m \u001b[0mself\u001b[0m\u001b[1;33m.\u001b[0m\u001b[0m_getitem_multilevel\u001b[0m\u001b[1;33m(\u001b[0m\u001b[0mkey\u001b[0m\u001b[1;33m)\u001b[0m\u001b[1;33m\u001b[0m\u001b[1;33m\u001b[0m\u001b[0m\n\u001b[1;32m-> 2980\u001b[1;33m             \u001b[0mindexer\u001b[0m \u001b[1;33m=\u001b[0m \u001b[0mself\u001b[0m\u001b[1;33m.\u001b[0m\u001b[0mcolumns\u001b[0m\u001b[1;33m.\u001b[0m\u001b[0mget_loc\u001b[0m\u001b[1;33m(\u001b[0m\u001b[0mkey\u001b[0m\u001b[1;33m)\u001b[0m\u001b[1;33m\u001b[0m\u001b[1;33m\u001b[0m\u001b[0m\n\u001b[0m\u001b[0;32m   2981\u001b[0m             \u001b[1;32mif\u001b[0m \u001b[0mis_integer\u001b[0m\u001b[1;33m(\u001b[0m\u001b[0mindexer\u001b[0m\u001b[1;33m)\u001b[0m\u001b[1;33m:\u001b[0m\u001b[1;33m\u001b[0m\u001b[1;33m\u001b[0m\u001b[0m\n\u001b[0;32m   2982\u001b[0m                 \u001b[0mindexer\u001b[0m \u001b[1;33m=\u001b[0m \u001b[1;33m[\u001b[0m\u001b[0mindexer\u001b[0m\u001b[1;33m]\u001b[0m\u001b[1;33m\u001b[0m\u001b[1;33m\u001b[0m\u001b[0m\n",
      "\u001b[1;32m~\\Anaconda3\\lib\\site-packages\\pandas\\core\\indexes\\base.py\u001b[0m in \u001b[0;36mget_loc\u001b[1;34m(self, key, method, tolerance)\u001b[0m\n\u001b[0;32m   2897\u001b[0m                 \u001b[1;32mreturn\u001b[0m \u001b[0mself\u001b[0m\u001b[1;33m.\u001b[0m\u001b[0m_engine\u001b[0m\u001b[1;33m.\u001b[0m\u001b[0mget_loc\u001b[0m\u001b[1;33m(\u001b[0m\u001b[0mkey\u001b[0m\u001b[1;33m)\u001b[0m\u001b[1;33m\u001b[0m\u001b[1;33m\u001b[0m\u001b[0m\n\u001b[0;32m   2898\u001b[0m             \u001b[1;32mexcept\u001b[0m \u001b[0mKeyError\u001b[0m\u001b[1;33m:\u001b[0m\u001b[1;33m\u001b[0m\u001b[1;33m\u001b[0m\u001b[0m\n\u001b[1;32m-> 2899\u001b[1;33m                 \u001b[1;32mreturn\u001b[0m \u001b[0mself\u001b[0m\u001b[1;33m.\u001b[0m\u001b[0m_engine\u001b[0m\u001b[1;33m.\u001b[0m\u001b[0mget_loc\u001b[0m\u001b[1;33m(\u001b[0m\u001b[0mself\u001b[0m\u001b[1;33m.\u001b[0m\u001b[0m_maybe_cast_indexer\u001b[0m\u001b[1;33m(\u001b[0m\u001b[0mkey\u001b[0m\u001b[1;33m)\u001b[0m\u001b[1;33m)\u001b[0m\u001b[1;33m\u001b[0m\u001b[1;33m\u001b[0m\u001b[0m\n\u001b[0m\u001b[0;32m   2900\u001b[0m         \u001b[0mindexer\u001b[0m \u001b[1;33m=\u001b[0m \u001b[0mself\u001b[0m\u001b[1;33m.\u001b[0m\u001b[0mget_indexer\u001b[0m\u001b[1;33m(\u001b[0m\u001b[1;33m[\u001b[0m\u001b[0mkey\u001b[0m\u001b[1;33m]\u001b[0m\u001b[1;33m,\u001b[0m \u001b[0mmethod\u001b[0m\u001b[1;33m=\u001b[0m\u001b[0mmethod\u001b[0m\u001b[1;33m,\u001b[0m \u001b[0mtolerance\u001b[0m\u001b[1;33m=\u001b[0m\u001b[0mtolerance\u001b[0m\u001b[1;33m)\u001b[0m\u001b[1;33m\u001b[0m\u001b[1;33m\u001b[0m\u001b[0m\n\u001b[0;32m   2901\u001b[0m         \u001b[1;32mif\u001b[0m \u001b[0mindexer\u001b[0m\u001b[1;33m.\u001b[0m\u001b[0mndim\u001b[0m \u001b[1;33m>\u001b[0m \u001b[1;36m1\u001b[0m \u001b[1;32mor\u001b[0m \u001b[0mindexer\u001b[0m\u001b[1;33m.\u001b[0m\u001b[0msize\u001b[0m \u001b[1;33m>\u001b[0m \u001b[1;36m1\u001b[0m\u001b[1;33m:\u001b[0m\u001b[1;33m\u001b[0m\u001b[1;33m\u001b[0m\u001b[0m\n",
      "\u001b[1;32mpandas\\_libs\\index.pyx\u001b[0m in \u001b[0;36mpandas._libs.index.IndexEngine.get_loc\u001b[1;34m()\u001b[0m\n",
      "\u001b[1;32mpandas\\_libs\\index.pyx\u001b[0m in \u001b[0;36mpandas._libs.index.IndexEngine.get_loc\u001b[1;34m()\u001b[0m\n",
      "\u001b[1;32mpandas\\_libs\\hashtable_class_helper.pxi\u001b[0m in \u001b[0;36mpandas._libs.hashtable.PyObjectHashTable.get_item\u001b[1;34m()\u001b[0m\n",
      "\u001b[1;32mpandas\\_libs\\hashtable_class_helper.pxi\u001b[0m in \u001b[0;36mpandas._libs.hashtable.PyObjectHashTable.get_item\u001b[1;34m()\u001b[0m\n",
      "\u001b[1;31mKeyError\u001b[0m: 'month'"
     ]
    }
   ],
   "source": [
    "label_names = ['January', 'February', 'March', 'April', 'May', 'June', 'July', 'August', 'September', 'October', 'November', 'December']\n",
    "\n",
    "plt.pie(incfrq['month'],incfrq['No_Incidents'],labels=label_names,autopct='%.2f',shadow=True)"
   ]
  },
  {
   "cell_type": "code",
   "execution_count": 28,
   "metadata": {},
   "outputs": [],
   "source": [
    "incfrq = incfrq.shift(1)"
   ]
  },
  {
   "cell_type": "code",
   "execution_count": 120,
   "metadata": {},
   "outputs": [],
   "source": [
    "incfrq['month'] = pd.DatetimeIndex(incfrq['Open_Time']).month\n"
   ]
  },
  {
   "cell_type": "code",
   "execution_count": null,
   "metadata": {},
   "outputs": [],
   "source": []
  },
  {
   "cell_type": "code",
   "execution_count": null,
   "metadata": {},
   "outputs": [],
   "source": []
  },
  {
   "cell_type": "code",
   "execution_count": null,
   "metadata": {},
   "outputs": [],
   "source": []
  },
  {
   "cell_type": "code",
   "execution_count": null,
   "metadata": {},
   "outputs": [],
   "source": []
  },
  {
   "cell_type": "code",
   "execution_count": null,
   "metadata": {},
   "outputs": [],
   "source": []
  },
  {
   "cell_type": "code",
   "execution_count": null,
   "metadata": {},
   "outputs": [],
   "source": []
  },
  {
   "cell_type": "code",
   "execution_count": null,
   "metadata": {},
   "outputs": [],
   "source": []
  },
  {
   "cell_type": "code",
   "execution_count": null,
   "metadata": {},
   "outputs": [],
   "source": []
  },
  {
   "cell_type": "markdown",
   "metadata": {},
   "source": [
    "RFC"
   ]
  },
  {
   "cell_type": "code",
   "execution_count": 97,
   "metadata": {},
   "outputs": [
    {
     "data": {
      "text/plain": [
       "CI_Name                           0\n",
       "CI_Cat                            0\n",
       "CI_Subcat                         0\n",
       "WBS                               0\n",
       "Incident_ID                       0\n",
       "Status                            0\n",
       "Impact                            0\n",
       "Urgency                           0\n",
       "Priority                          0\n",
       "number_cnt                        0\n",
       "Category                          0\n",
       "KB_number                         0\n",
       "Alert_Status                      0\n",
       "No_of_Reassignments               0\n",
       "Open_Time                         0\n",
       "Resolved_Time                  1653\n",
       "Close_Time                        0\n",
       "Handle_Time_hrs                   0\n",
       "Closure_Code                    460\n",
       "No_of_Related_Interactions        0\n",
       "Related_Interaction               0\n",
       "No_of_Related_Incidents       36596\n",
       "No_of_Related_Changes             0\n",
       "Related_Change                37217\n",
       "dtype: int64"
      ]
     },
     "execution_count": 97,
     "metadata": {},
     "output_type": "execute_result"
    }
   ],
   "source": [
    "data1.isnull().sum()"
   ]
  },
  {
   "cell_type": "code",
   "execution_count": 89,
   "metadata": {},
   "outputs": [],
   "source": [
    "data1.No_of_Related_Changes.replace(np.nan,1,inplace=True)"
   ]
  },
  {
   "cell_type": "code",
   "execution_count": 113,
   "metadata": {},
   "outputs": [],
   "source": [
    "# Selecting the predictors\n",
    "X1 = data1.loc[:,['CI_Cat','CI_Subcat','WBS','KB_number','Priority','Category','No_of_Related_Interactions','Impact','Urgency']]\n",
    "y1 = data1.No_of_Related_Changes"
   ]
  },
  {
   "cell_type": "code",
   "execution_count": 114,
   "metadata": {},
   "outputs": [],
   "source": [
    "y1=y1.astype('int')"
   ]
  },
  {
   "cell_type": "code",
   "execution_count": null,
   "metadata": {},
   "outputs": [],
   "source": []
  },
  {
   "cell_type": "code",
   "execution_count": null,
   "metadata": {},
   "outputs": [],
   "source": []
  },
  {
   "cell_type": "code",
   "execution_count": 115,
   "metadata": {},
   "outputs": [],
   "source": [
    "from sklearn.preprocessing import LabelEncoder , StandardScaler\n",
    "enc = LabelEncoder()\n",
    "X1[['CI_Cat','CI_Subcat','WBS','Category','KB_number','No_of_Related_Interactions','Impact','Urgency','Priority']] = \\\n",
    "X1[['CI_Cat','CI_Subcat','WBS','Category','KB_number','No_of_Related_Interactions','Impact','Urgency','Priority']].apply(enc.fit_transform)"
   ]
  },
  {
   "cell_type": "code",
   "execution_count": 116,
   "metadata": {},
   "outputs": [],
   "source": [
    "X1_train, X1_test, y1_train, y1_test = train_test_split(X1,y1,test_size=0.3,random_state=10)"
   ]
  },
  {
   "cell_type": "code",
   "execution_count": 117,
   "metadata": {},
   "outputs": [],
   "source": [
    "sc = StandardScaler()\n",
    "X1_train = sc.fit_transform(X1_train)\n",
    "X1_test = sc.transform(X1_test)"
   ]
  },
  {
   "cell_type": "markdown",
   "metadata": {},
   "source": [
    "random forest"
   ]
  },
  {
   "cell_type": "code",
   "execution_count": 118,
   "metadata": {},
   "outputs": [],
   "source": [
    "from sklearn.ensemble import RandomForestClassifier\n",
    "model= RandomForestClassifier()\n"
   ]
  },
  {
   "cell_type": "code",
   "execution_count": 119,
   "metadata": {},
   "outputs": [
    {
     "data": {
      "text/plain": [
       "RandomForestClassifier(bootstrap=True, ccp_alpha=0.0, class_weight=None,\n",
       "                       criterion='gini', max_depth=None, max_features='auto',\n",
       "                       max_leaf_nodes=None, max_samples=None,\n",
       "                       min_impurity_decrease=0.0, min_impurity_split=None,\n",
       "                       min_samples_leaf=1, min_samples_split=2,\n",
       "                       min_weight_fraction_leaf=0.0, n_estimators=100,\n",
       "                       n_jobs=None, oob_score=False, random_state=None,\n",
       "                       verbose=0, warm_start=False)"
      ]
     },
     "execution_count": 119,
     "metadata": {},
     "output_type": "execute_result"
    }
   ],
   "source": [
    "model.fit(X1_train,y1_train)"
   ]
  },
  {
   "cell_type": "code",
   "execution_count": 120,
   "metadata": {},
   "outputs": [
    {
     "name": "stdout",
     "output_type": "stream",
     "text": [
      "0.9994701986754967\n",
      "              precision    recall  f1-score   support\n",
      "\n",
      "           1       1.00      1.00      1.00     11320\n",
      "           2       0.00      0.00      0.00         4\n",
      "           3       0.00      0.00      0.00         1\n",
      "\n",
      "    accuracy                           1.00     11325\n",
      "   macro avg       0.33      0.33      0.33     11325\n",
      "weighted avg       1.00      1.00      1.00     11325\n",
      "\n"
     ]
    }
   ],
   "source": [
    "y_predict = model.predict(X1_test)\n",
    "print(accuracy_score(y1_test,y_predict))\n",
    "print(classification_report(y1_test,y_predict))\n"
   ]
  },
  {
   "cell_type": "code",
   "execution_count": null,
   "metadata": {},
   "outputs": [],
   "source": []
  }
 ],
 "metadata": {
  "kernelspec": {
   "display_name": "Python 3",
   "language": "python",
   "name": "python3"
  },
  "language_info": {
   "codemirror_mode": {
    "name": "ipython",
    "version": 3
   },
   "file_extension": ".py",
   "mimetype": "text/x-python",
   "name": "python",
   "nbconvert_exporter": "python",
   "pygments_lexer": "ipython3",
   "version": "3.7.4"
  }
 },
 "nbformat": 4,
 "nbformat_minor": 2
}
